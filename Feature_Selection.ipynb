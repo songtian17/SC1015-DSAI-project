{
 "cells": [
  {
   "attachments": {},
   "cell_type": "markdown",
   "metadata": {},
   "source": [
    "# Feature Selection"
   ]
  },
  {
   "cell_type": "code",
   "execution_count": 1,
   "metadata": {},
   "outputs": [],
   "source": [
    "import pandas as pd\n",
    "import numpy as np\n",
    "import matplotlib.pyplot as plt\n",
    "import seaborn as sns\n",
    "from scipy.stats import chi2_contingency"
   ]
  },
  {
   "cell_type": "code",
   "execution_count": 2,
   "metadata": {},
   "outputs": [
    {
     "name": "stdout",
     "output_type": "stream",
     "text": [
      "Association between Diabetes_binary and Diabetes_binary:\n",
      "Chi-squared statistic: 78842.00\n",
      "Cramer's V: 1.00\n",
      "----------------------------------\n",
      "Association between Diabetes_binary and HighBP:\n",
      "Chi-squared statistic: 9034.16\n",
      "Cramer's V: 0.34\n",
      "----------------------------------\n",
      "Association between Diabetes_binary and HighChol:\n",
      "Chi-squared statistic: 5345.55\n",
      "Cramer's V: 0.26\n",
      "----------------------------------\n",
      "Association between Diabetes_binary and BMI:\n",
      "Chi-squared statistic: 7186.66\n",
      "Cramer's V: 0.30\n",
      "----------------------------------\n",
      "Association between Diabetes_binary and Smoker:\n",
      "Chi-squared statistic: 298.61\n",
      "Cramer's V: 0.06\n",
      "----------------------------------\n",
      "Association between Diabetes_binary and Stroke:\n",
      "Chi-squared statistic: 940.59\n",
      "Cramer's V: 0.11\n",
      "----------------------------------\n",
      "Association between Diabetes_binary and HeartDiseaseorAttack:\n",
      "Chi-squared statistic: 2777.73\n",
      "Cramer's V: 0.19\n",
      "----------------------------------\n",
      "Association between Diabetes_binary and PhysActivity:\n",
      "Chi-squared statistic: 1362.28\n",
      "Cramer's V: 0.13\n",
      "----------------------------------\n",
      "Association between Diabetes_binary and Fruits:\n",
      "Chi-squared statistic: 68.66\n",
      "Cramer's V: 0.03\n",
      "----------------------------------\n",
      "Association between Diabetes_binary and Veggies:\n",
      "Chi-squared statistic: 227.71\n",
      "Cramer's V: 0.05\n",
      "----------------------------------\n",
      "Association between Diabetes_binary and HvyAlcoholConsump:\n",
      "Chi-squared statistic: 713.81\n",
      "Cramer's V: 0.10\n",
      "----------------------------------\n",
      "Association between Diabetes_binary and AnyHealthcare:\n",
      "Chi-squared statistic: 47.30\n",
      "Cramer's V: 0.02\n",
      "----------------------------------\n",
      "Association between Diabetes_binary and NoDocbcCost:\n",
      "Chi-squared statistic: 120.86\n",
      "Cramer's V: 0.04\n",
      "----------------------------------\n",
      "Association between Diabetes_binary and GenHlth:\n",
      "Chi-squared statistic: 10673.19\n",
      "Cramer's V: 0.37\n",
      "----------------------------------\n",
      "Association between Diabetes_binary and MentHlth:\n",
      "Chi-squared statistic: 803.10\n",
      "Cramer's V: 0.10\n",
      "----------------------------------\n",
      "Association between Diabetes_binary and PhysHlth:\n",
      "Chi-squared statistic: 3158.17\n",
      "Cramer's V: 0.20\n",
      "----------------------------------\n",
      "Association between Diabetes_binary and DiffWalk:\n",
      "Chi-squared statistic: 4614.19\n",
      "Cramer's V: 0.24\n",
      "----------------------------------\n",
      "Association between Diabetes_binary and Sex:\n",
      "Chi-squared statistic: 139.27\n",
      "Cramer's V: 0.04\n",
      "----------------------------------\n",
      "Association between Diabetes_binary and Age:\n",
      "Chi-squared statistic: 6033.97\n",
      "Cramer's V: 0.28\n",
      "----------------------------------\n",
      "Association between Diabetes_binary and Education:\n",
      "Chi-squared statistic: 1564.96\n",
      "Cramer's V: 0.14\n",
      "----------------------------------\n",
      "Association between Diabetes_binary and Income:\n",
      "Chi-squared statistic: 2927.59\n",
      "Cramer's V: 0.19\n",
      "----------------------------------\n"
     ]
    }
   ],
   "source": [
    "df = pd.read_csv('balanced_dataset.csv')\n",
    "associations = {'Feature': [], 'Chi-squared': [], 'Cramer\\'s V': []}\n",
    "\n",
    "for col in df.columns:\n",
    "    # Create a contingency table\n",
    "    contingency_table = pd.crosstab(df[\"Diabetes_binary\"], df[col])\n",
    "    \n",
    "    # Calculate the chi-squared statistic and p-value\n",
    "    chi2 = chi2_contingency(contingency_table)[0]\n",
    "    \n",
    "    # Calculate Cramer's V\n",
    "    n = contingency_table.sum().sum()\n",
    "    phi2 = chi2 / n\n",
    "    r, k = contingency_table.shape\n",
    "    phi2corr = max(0, phi2 - ((k - 1) * (r - 1)) / (n - 1))\n",
    "    rcorr = r - ((r - 1)**2) / (n - 1)\n",
    "    kcorr = k - ((k - 1)**2) / (n - 1)\n",
    "    cramers_v = np.sqrt(phi2corr / min((kcorr - 1), (rcorr - 1)))\n",
    "    \n",
    "    associations['Feature'].append(col)\n",
    "    associations['Chi-squared'].append(format(chi2, '.2f'))\n",
    "    associations['Cramer\\'s V'].append(format(cramers_v, '.2f'))\n",
    "\n",
    "    # Print the results\n",
    "    print(f'Association between Diabetes_binary and {col}:')\n",
    "    print(f'Chi-squared statistic: {chi2:.2f}')\n",
    "    print(f\"Cramer's V: {cramers_v:.2f}\")\n",
    "    print('----------------------------------')"
   ]
  },
  {
   "attachments": {},
   "cell_type": "markdown",
   "metadata": {},
   "source": [
    "## Sort features' association with Diabetes_binary by descending Cramer's V"
   ]
  },
  {
   "cell_type": "code",
   "execution_count": 3,
   "metadata": {},
   "outputs": [
    {
     "name": "stdout",
     "output_type": "stream",
     "text": [
      "                 Feature Chi-squared Cramer's V\n",
      "0        Diabetes_binary    78842.00       1.00\n",
      "1                GenHlth    10673.19       0.37\n",
      "2                 HighBP     9034.16       0.34\n",
      "3                    BMI     7186.66       0.30\n",
      "4                    Age     6033.97       0.28\n",
      "5               HighChol     5345.55       0.26\n",
      "6               DiffWalk     4614.19       0.24\n",
      "7               PhysHlth     3158.17       0.20\n",
      "8                 Income     2927.59       0.19\n",
      "9   HeartDiseaseorAttack     2777.73       0.19\n",
      "10             Education     1564.96       0.14\n",
      "11          PhysActivity     1362.28       0.13\n",
      "12                Stroke      940.59       0.11\n",
      "13              MentHlth      803.10       0.10\n",
      "14     HvyAlcoholConsump      713.81       0.10\n",
      "15                Smoker      298.61       0.06\n",
      "16               Veggies      227.71       0.05\n",
      "17           NoDocbcCost      120.86       0.04\n",
      "18                   Sex      139.27       0.04\n",
      "19                Fruits       68.66       0.03\n",
      "20         AnyHealthcare       47.30       0.02\n"
     ]
    }
   ],
   "source": [
    "features = pd.DataFrame(associations)\n",
    "features = features.sort_values(by='Cramer\\'s V', ascending=False)\n",
    "features = features.reset_index(drop=True)\n",
    "print(features)"
   ]
  },
  {
   "attachments": {},
   "cell_type": "markdown",
   "metadata": {},
   "source": [
    "We will use all features with a Cramer's V value of 0.20 or larger.\n",
    "The following 7 features will be used in Model Fitting: GenHlth, HighBP, BMI, Age, HighChol, DiffWalk, PhysHealth"
   ]
  }
 ],
 "metadata": {
  "kernelspec": {
   "display_name": "Python 3",
   "language": "python",
   "name": "python3"
  },
  "language_info": {
   "codemirror_mode": {
    "name": "ipython",
    "version": 3
   },
   "file_extension": ".py",
   "mimetype": "text/x-python",
   "name": "python",
   "nbconvert_exporter": "python",
   "pygments_lexer": "ipython3",
   "version": "3.9.13"
  },
  "orig_nbformat": 4
 },
 "nbformat": 4,
 "nbformat_minor": 2
}
